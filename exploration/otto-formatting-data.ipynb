{
 "cells": [
  {
   "cell_type": "code",
   "execution_count": 6,
   "id": "ab926060",
   "metadata": {
    "_cell_guid": "b1076dfc-b9ad-4769-8c92-a6c4dae69d19",
    "_uuid": "8f2839f25d086af736a60e9eeb907d3b93b6e0e5",
    "execution": {
     "iopub.execute_input": "2022-12-05T16:47:38.744332Z",
     "iopub.status.busy": "2022-12-05T16:47:38.743783Z",
     "iopub.status.idle": "2022-12-05T16:47:55.646266Z",
     "shell.execute_reply": "2022-12-05T16:47:55.644826Z"
    },
    "papermill": {
     "duration": 16.910927,
     "end_time": "2022-12-05T16:47:55.649144",
     "exception": false,
     "start_time": "2022-12-05T16:47:38.738217",
     "status": "completed"
    },
    "tags": []
   },
   "outputs": [],
   "source": [
    "#LOADING Packages\n",
    "# !pip install polars # uncomment to install 'polar' package\n",
    "\n",
    "import numpy as np \n",
    "import pandas as pd \n",
    "from tqdm import tqdm\n",
    "import json\n",
    "from collections import defaultdict \n",
    "import polars as pl\n",
    "\n",
    "\n",
    "import os, psutil  \n",
    "\n",
    "def cpu_stats():\n",
    "    pid = os.getpid()\n",
    "    py = psutil.Process(pid)\n",
    "    memory_use = py.memory_info()[0] / 2. ** 30\n",
    "    return 'memory GB:' + str(np.round(memory_use, 2))"
   ]
  },
  {
   "cell_type": "markdown",
   "id": "ec89a6e2",
   "metadata": {
    "papermill": {
     "duration": 0.00538,
     "end_time": "2022-12-05T16:47:55.660303",
     "exception": false,
     "start_time": "2022-12-05T16:47:55.654923",
     "status": "completed"
    },
    "tags": []
   },
   "source": [
    "## Loading data into memory\n",
    "This is going to demand some typing strategies"
   ]
  },
  {
   "cell_type": "code",
   "execution_count": null,
   "id": "e390f339",
   "metadata": {
    "execution": {
     "iopub.execute_input": "2022-12-05T16:47:55.673294Z",
     "iopub.status.busy": "2022-12-05T16:47:55.672878Z",
     "iopub.status.idle": "2022-12-05T18:52:44.845064Z",
     "shell.execute_reply": "2022-12-05T18:52:44.843374Z"
    },
    "papermill": {
     "duration": 7489.182373,
     "end_time": "2022-12-05T18:52:44.848176",
     "exception": false,
     "start_time": "2022-12-05T16:47:55.665803",
     "status": "completed"
    },
    "tags": []
   },
   "outputs": [
    {
     "name": "stderr",
     "output_type": "stream",
     "text": [
      "73it [00:00, 699.34it/s]"
     ]
    },
    {
     "name": "stdout",
     "output_type": "stream",
     "text": [
      "currently treating line 0\n",
      "memory GB:0.23\n"
     ]
    },
    {
     "name": "stderr",
     "output_type": "stream",
     "text": [
      "10121it [00:11, 940.94it/s]"
     ]
    },
    {
     "name": "stdout",
     "output_type": "stream",
     "text": [
      "currently treating line 10,000\n",
      "memory GB:0.23\n"
     ]
    },
    {
     "name": "stderr",
     "output_type": "stream",
     "text": [
      "20124it [00:21, 953.51it/s] "
     ]
    },
    {
     "name": "stdout",
     "output_type": "stream",
     "text": [
      "currently treating line 20,000\n",
      "memory GB:0.23\n"
     ]
    },
    {
     "name": "stderr",
     "output_type": "stream",
     "text": [
      "30154it [00:31, 982.65it/s] "
     ]
    },
    {
     "name": "stdout",
     "output_type": "stream",
     "text": [
      "currently treating line 30,000\n",
      "memory GB:0.23\n"
     ]
    },
    {
     "name": "stderr",
     "output_type": "stream",
     "text": [
      "40146it [00:41, 954.88it/s] "
     ]
    },
    {
     "name": "stdout",
     "output_type": "stream",
     "text": [
      "currently treating line 40,000\n",
      "memory GB:0.23\n"
     ]
    },
    {
     "name": "stderr",
     "output_type": "stream",
     "text": [
      "50185it [00:52, 957.29it/s] "
     ]
    },
    {
     "name": "stdout",
     "output_type": "stream",
     "text": [
      "currently treating line 50,000\n",
      "memory GB:0.23\n"
     ]
    },
    {
     "name": "stderr",
     "output_type": "stream",
     "text": [
      "60179it [01:02, 1000.96it/s]"
     ]
    },
    {
     "name": "stdout",
     "output_type": "stream",
     "text": [
      "currently treating line 60,000\n",
      "memory GB:0.23\n"
     ]
    },
    {
     "name": "stderr",
     "output_type": "stream",
     "text": [
      "70186it [01:12, 950.18it/s] "
     ]
    },
    {
     "name": "stdout",
     "output_type": "stream",
     "text": [
      "currently treating line 70,000\n",
      "memory GB:0.23\n"
     ]
    },
    {
     "name": "stderr",
     "output_type": "stream",
     "text": [
      "80119it [01:22, 976.59it/s] "
     ]
    },
    {
     "name": "stdout",
     "output_type": "stream",
     "text": [
      "currently treating line 80,000\n",
      "memory GB:0.23\n"
     ]
    },
    {
     "name": "stderr",
     "output_type": "stream",
     "text": [
      "90087it [01:33, 962.53it/s] "
     ]
    },
    {
     "name": "stdout",
     "output_type": "stream",
     "text": [
      "currently treating line 90,000\n",
      "memory GB:0.29\n"
     ]
    },
    {
     "name": "stderr",
     "output_type": "stream",
     "text": [
      "100163it [01:43, 920.53it/s]"
     ]
    },
    {
     "name": "stdout",
     "output_type": "stream",
     "text": [
      "currently treating line 100,000\n",
      "memory GB:0.29\n"
     ]
    },
    {
     "name": "stderr",
     "output_type": "stream",
     "text": [
      "110125it [01:54, 969.90it/s]"
     ]
    },
    {
     "name": "stdout",
     "output_type": "stream",
     "text": [
      "currently treating line 110,000\n",
      "memory GB:0.3\n"
     ]
    },
    {
     "name": "stderr",
     "output_type": "stream",
     "text": [
      "120125it [02:04, 995.64it/s] "
     ]
    },
    {
     "name": "stdout",
     "output_type": "stream",
     "text": [
      "currently treating line 120,000\n",
      "memory GB:0.31\n"
     ]
    },
    {
     "name": "stderr",
     "output_type": "stream",
     "text": [
      "130144it [02:14, 994.43it/s] "
     ]
    },
    {
     "name": "stdout",
     "output_type": "stream",
     "text": [
      "currently treating line 130,000\n",
      "memory GB:0.31\n"
     ]
    },
    {
     "name": "stderr",
     "output_type": "stream",
     "text": [
      "140144it [02:24, 976.28it/s] "
     ]
    },
    {
     "name": "stdout",
     "output_type": "stream",
     "text": [
      "currently treating line 140,000\n",
      "memory GB:0.32\n"
     ]
    },
    {
     "name": "stderr",
     "output_type": "stream",
     "text": [
      "150177it [02:35, 982.29it/s] "
     ]
    },
    {
     "name": "stdout",
     "output_type": "stream",
     "text": [
      "currently treating line 150,000\n",
      "memory GB:0.32\n"
     ]
    },
    {
     "name": "stderr",
     "output_type": "stream",
     "text": [
      "160171it [02:45, 967.84it/s] "
     ]
    },
    {
     "name": "stdout",
     "output_type": "stream",
     "text": [
      "currently treating line 160,000\n",
      "memory GB:0.33\n"
     ]
    },
    {
     "name": "stderr",
     "output_type": "stream",
     "text": [
      "170118it [02:55, 991.80it/s] "
     ]
    },
    {
     "name": "stdout",
     "output_type": "stream",
     "text": [
      "currently treating line 170,000\n",
      "memory GB:0.33\n"
     ]
    },
    {
     "name": "stderr",
     "output_type": "stream",
     "text": [
      "180127it [03:05, 976.74it/s] "
     ]
    },
    {
     "name": "stdout",
     "output_type": "stream",
     "text": [
      "currently treating line 180,000\n",
      "memory GB:0.34\n"
     ]
    },
    {
     "name": "stderr",
     "output_type": "stream",
     "text": [
      "190179it [03:15, 985.40it/s] "
     ]
    },
    {
     "name": "stdout",
     "output_type": "stream",
     "text": [
      "currently treating line 190,000\n",
      "memory GB:0.35\n"
     ]
    },
    {
     "name": "stderr",
     "output_type": "stream",
     "text": [
      "200113it [03:25, 989.60it/s] "
     ]
    },
    {
     "name": "stdout",
     "output_type": "stream",
     "text": [
      "currently treating line 200,000\n",
      "memory GB:0.35\n"
     ]
    },
    {
     "name": "stderr",
     "output_type": "stream",
     "text": [
      "210092it [03:35, 1019.52it/s]"
     ]
    },
    {
     "name": "stdout",
     "output_type": "stream",
     "text": [
      "currently treating line 210,000\n",
      "memory GB:0.36\n"
     ]
    },
    {
     "name": "stderr",
     "output_type": "stream",
     "text": [
      "220127it [03:46, 999.35it/s] "
     ]
    },
    {
     "name": "stdout",
     "output_type": "stream",
     "text": [
      "currently treating line 220,000\n",
      "memory GB:0.36\n"
     ]
    },
    {
     "name": "stderr",
     "output_type": "stream",
     "text": [
      "230152it [03:56, 988.19it/s] "
     ]
    },
    {
     "name": "stdout",
     "output_type": "stream",
     "text": [
      "currently treating line 230,000\n",
      "memory GB:0.37\n"
     ]
    },
    {
     "name": "stderr",
     "output_type": "stream",
     "text": [
      "240109it [04:06, 1021.01it/s]"
     ]
    },
    {
     "name": "stdout",
     "output_type": "stream",
     "text": [
      "currently treating line 240,000\n",
      "memory GB:0.37\n"
     ]
    },
    {
     "name": "stderr",
     "output_type": "stream",
     "text": [
      "250180it [04:16, 998.50it/s] "
     ]
    },
    {
     "name": "stdout",
     "output_type": "stream",
     "text": [
      "currently treating line 250,000\n",
      "memory GB:0.38\n"
     ]
    },
    {
     "name": "stderr",
     "output_type": "stream",
     "text": [
      "260110it [04:26, 974.03it/s] "
     ]
    },
    {
     "name": "stdout",
     "output_type": "stream",
     "text": [
      "currently treating line 260,000\n",
      "memory GB:0.38\n"
     ]
    },
    {
     "name": "stderr",
     "output_type": "stream",
     "text": [
      "270139it [04:36, 1011.03it/s]"
     ]
    },
    {
     "name": "stdout",
     "output_type": "stream",
     "text": [
      "currently treating line 270,000\n",
      "memory GB:0.39\n"
     ]
    },
    {
     "name": "stderr",
     "output_type": "stream",
     "text": [
      "280119it [04:46, 1006.78it/s]"
     ]
    },
    {
     "name": "stdout",
     "output_type": "stream",
     "text": [
      "currently treating line 280,000\n",
      "memory GB:0.39\n"
     ]
    },
    {
     "name": "stderr",
     "output_type": "stream",
     "text": [
      "290093it [04:57, 978.95it/s] "
     ]
    },
    {
     "name": "stdout",
     "output_type": "stream",
     "text": [
      "currently treating line 290,000\n",
      "memory GB:0.4\n"
     ]
    },
    {
     "name": "stderr",
     "output_type": "stream",
     "text": [
      "300154it [05:07, 1000.80it/s]"
     ]
    },
    {
     "name": "stdout",
     "output_type": "stream",
     "text": [
      "currently treating line 300,000\n",
      "memory GB:0.4\n"
     ]
    },
    {
     "name": "stderr",
     "output_type": "stream",
     "text": [
      "310140it [05:17, 869.10it/s] "
     ]
    },
    {
     "name": "stdout",
     "output_type": "stream",
     "text": [
      "currently treating line 310,000\n",
      "memory GB:0.41\n"
     ]
    },
    {
     "name": "stderr",
     "output_type": "stream",
     "text": [
      "320193it [05:27, 1038.18it/s]"
     ]
    },
    {
     "name": "stdout",
     "output_type": "stream",
     "text": [
      "currently treating line 320,000\n",
      "memory GB:0.41\n"
     ]
    },
    {
     "name": "stderr",
     "output_type": "stream",
     "text": [
      "330148it [05:37, 1035.05it/s]"
     ]
    },
    {
     "name": "stdout",
     "output_type": "stream",
     "text": [
      "currently treating line 330,000\n",
      "memory GB:0.41\n"
     ]
    },
    {
     "name": "stderr",
     "output_type": "stream",
     "text": [
      "340119it [05:46, 1044.00it/s]"
     ]
    },
    {
     "name": "stdout",
     "output_type": "stream",
     "text": [
      "currently treating line 340,000\n",
      "memory GB:0.42\n"
     ]
    },
    {
     "name": "stderr",
     "output_type": "stream",
     "text": [
      "350084it [05:56, 1017.36it/s]"
     ]
    },
    {
     "name": "stdout",
     "output_type": "stream",
     "text": [
      "currently treating line 350,000\n",
      "memory GB:0.42\n"
     ]
    },
    {
     "name": "stderr",
     "output_type": "stream",
     "text": [
      "360110it [06:06, 1011.80it/s]"
     ]
    },
    {
     "name": "stdout",
     "output_type": "stream",
     "text": [
      "currently treating line 360,000\n",
      "memory GB:0.43\n"
     ]
    },
    {
     "name": "stderr",
     "output_type": "stream",
     "text": [
      "370108it [06:16, 1053.29it/s]"
     ]
    },
    {
     "name": "stdout",
     "output_type": "stream",
     "text": [
      "currently treating line 370,000\n",
      "memory GB:0.43\n"
     ]
    },
    {
     "name": "stderr",
     "output_type": "stream",
     "text": [
      "380166it [06:26, 1025.48it/s]"
     ]
    },
    {
     "name": "stdout",
     "output_type": "stream",
     "text": [
      "currently treating line 380,000\n",
      "memory GB:0.44\n"
     ]
    },
    {
     "name": "stderr",
     "output_type": "stream",
     "text": [
      "390141it [06:35, 1401.11it/s]"
     ]
    },
    {
     "name": "stdout",
     "output_type": "stream",
     "text": [
      "currently treating line 390,000\n",
      "memory GB:0.46\n"
     ]
    },
    {
     "name": "stderr",
     "output_type": "stream",
     "text": [
      "400186it [06:41, 1526.21it/s]"
     ]
    },
    {
     "name": "stdout",
     "output_type": "stream",
     "text": [
      "currently treating line 400,000\n",
      "memory GB:0.46\n"
     ]
    },
    {
     "name": "stderr",
     "output_type": "stream",
     "text": [
      "410127it [06:48, 1286.52it/s]"
     ]
    },
    {
     "name": "stdout",
     "output_type": "stream",
     "text": [
      "currently treating line 410,000\n",
      "memory GB:0.47\n"
     ]
    },
    {
     "name": "stderr",
     "output_type": "stream",
     "text": [
      "420165it [06:58, 1005.11it/s]"
     ]
    },
    {
     "name": "stdout",
     "output_type": "stream",
     "text": [
      "currently treating line 420,000\n",
      "memory GB:0.47\n"
     ]
    },
    {
     "name": "stderr",
     "output_type": "stream",
     "text": [
      "430181it [07:07, 1031.17it/s]"
     ]
    },
    {
     "name": "stdout",
     "output_type": "stream",
     "text": [
      "currently treating line 430,000\n",
      "memory GB:0.48\n"
     ]
    },
    {
     "name": "stderr",
     "output_type": "stream",
     "text": [
      "440187it [07:17, 1059.26it/s]"
     ]
    },
    {
     "name": "stdout",
     "output_type": "stream",
     "text": [
      "currently treating line 440,000\n",
      "memory GB:0.48\n"
     ]
    },
    {
     "name": "stderr",
     "output_type": "stream",
     "text": [
      "450213it [07:27, 1029.57it/s]"
     ]
    },
    {
     "name": "stdout",
     "output_type": "stream",
     "text": [
      "currently treating line 450,000\n",
      "memory GB:0.49\n"
     ]
    },
    {
     "name": "stderr",
     "output_type": "stream",
     "text": [
      "460201it [07:36, 1033.84it/s]"
     ]
    },
    {
     "name": "stdout",
     "output_type": "stream",
     "text": [
      "currently treating line 460,000\n",
      "memory GB:0.49\n"
     ]
    },
    {
     "name": "stderr",
     "output_type": "stream",
     "text": [
      "470133it [07:46, 1019.55it/s]"
     ]
    },
    {
     "name": "stdout",
     "output_type": "stream",
     "text": [
      "currently treating line 470,000\n",
      "memory GB:0.5\n"
     ]
    },
    {
     "name": "stderr",
     "output_type": "stream",
     "text": [
      "480119it [07:55, 1071.81it/s]"
     ]
    },
    {
     "name": "stdout",
     "output_type": "stream",
     "text": [
      "currently treating line 480,000\n",
      "memory GB:0.5\n"
     ]
    },
    {
     "name": "stderr",
     "output_type": "stream",
     "text": [
      "490139it [08:05, 1027.21it/s]"
     ]
    },
    {
     "name": "stdout",
     "output_type": "stream",
     "text": [
      "currently treating line 490,000\n",
      "memory GB:0.5\n"
     ]
    },
    {
     "name": "stderr",
     "output_type": "stream",
     "text": [
      "500140it [08:15, 987.16it/s] "
     ]
    },
    {
     "name": "stdout",
     "output_type": "stream",
     "text": [
      "currently treating line 500,000\n",
      "memory GB:0.51\n"
     ]
    },
    {
     "name": "stderr",
     "output_type": "stream",
     "text": [
      "510129it [08:25, 975.78it/s] "
     ]
    },
    {
     "name": "stdout",
     "output_type": "stream",
     "text": [
      "currently treating line 510,000\n",
      "memory GB:0.51\n"
     ]
    },
    {
     "name": "stderr",
     "output_type": "stream",
     "text": [
      "520170it [08:34, 1020.03it/s]"
     ]
    },
    {
     "name": "stdout",
     "output_type": "stream",
     "text": [
      "currently treating line 520,000\n",
      "memory GB:0.52\n"
     ]
    },
    {
     "name": "stderr",
     "output_type": "stream",
     "text": [
      "530159it [08:43, 1044.37it/s]"
     ]
    },
    {
     "name": "stdout",
     "output_type": "stream",
     "text": [
      "currently treating line 530,000\n",
      "memory GB:0.52\n"
     ]
    },
    {
     "name": "stderr",
     "output_type": "stream",
     "text": [
      "540185it [08:53, 1025.04it/s]"
     ]
    },
    {
     "name": "stdout",
     "output_type": "stream",
     "text": [
      "currently treating line 540,000\n",
      "memory GB:0.53\n"
     ]
    },
    {
     "name": "stderr",
     "output_type": "stream",
     "text": [
      "550127it [09:03, 955.17it/s] "
     ]
    },
    {
     "name": "stdout",
     "output_type": "stream",
     "text": [
      "currently treating line 550,000\n",
      "memory GB:0.53\n"
     ]
    },
    {
     "name": "stderr",
     "output_type": "stream",
     "text": [
      "560057it [09:13, 990.05it/s] "
     ]
    },
    {
     "name": "stdout",
     "output_type": "stream",
     "text": [
      "currently treating line 560,000\n",
      "memory GB:0.54\n"
     ]
    },
    {
     "name": "stderr",
     "output_type": "stream",
     "text": [
      "570184it [09:23, 1000.29it/s]"
     ]
    },
    {
     "name": "stdout",
     "output_type": "stream",
     "text": [
      "currently treating line 570,000\n",
      "memory GB:0.54\n"
     ]
    },
    {
     "name": "stderr",
     "output_type": "stream",
     "text": [
      "580168it [09:33, 1057.50it/s]"
     ]
    },
    {
     "name": "stdout",
     "output_type": "stream",
     "text": [
      "currently treating line 580,000\n",
      "memory GB:0.54\n"
     ]
    },
    {
     "name": "stderr",
     "output_type": "stream",
     "text": [
      "590182it [09:42, 1037.47it/s]"
     ]
    },
    {
     "name": "stdout",
     "output_type": "stream",
     "text": [
      "currently treating line 590,000\n",
      "memory GB:0.55\n"
     ]
    },
    {
     "name": "stderr",
     "output_type": "stream",
     "text": [
      "600093it [09:52, 1046.07it/s]"
     ]
    },
    {
     "name": "stdout",
     "output_type": "stream",
     "text": [
      "currently treating line 600,000\n",
      "memory GB:0.55\n"
     ]
    },
    {
     "name": "stderr",
     "output_type": "stream",
     "text": [
      "610176it [10:02, 1078.66it/s]"
     ]
    },
    {
     "name": "stdout",
     "output_type": "stream",
     "text": [
      "currently treating line 610,000\n",
      "memory GB:0.56\n"
     ]
    },
    {
     "name": "stderr",
     "output_type": "stream",
     "text": [
      "620113it [10:11, 1075.81it/s]"
     ]
    },
    {
     "name": "stdout",
     "output_type": "stream",
     "text": [
      "currently treating line 620,000\n",
      "memory GB:0.56\n"
     ]
    },
    {
     "name": "stderr",
     "output_type": "stream",
     "text": [
      "630132it [10:21, 1057.00it/s]"
     ]
    },
    {
     "name": "stdout",
     "output_type": "stream",
     "text": [
      "currently treating line 630,000\n",
      "memory GB:0.57\n"
     ]
    },
    {
     "name": "stderr",
     "output_type": "stream",
     "text": [
      "640142it [10:30, 1034.61it/s]"
     ]
    },
    {
     "name": "stdout",
     "output_type": "stream",
     "text": [
      "currently treating line 640,000\n",
      "memory GB:0.57\n"
     ]
    },
    {
     "name": "stderr",
     "output_type": "stream",
     "text": [
      "650159it [10:39, 1057.47it/s]"
     ]
    },
    {
     "name": "stdout",
     "output_type": "stream",
     "text": [
      "currently treating line 650,000\n",
      "memory GB:0.58\n"
     ]
    },
    {
     "name": "stderr",
     "output_type": "stream",
     "text": [
      "660168it [10:49, 1029.98it/s]"
     ]
    },
    {
     "name": "stdout",
     "output_type": "stream",
     "text": [
      "currently treating line 660,000\n",
      "memory GB:0.58\n"
     ]
    },
    {
     "name": "stderr",
     "output_type": "stream",
     "text": [
      "670122it [10:58, 1034.07it/s]"
     ]
    },
    {
     "name": "stdout",
     "output_type": "stream",
     "text": [
      "currently treating line 670,000\n",
      "memory GB:0.58\n"
     ]
    },
    {
     "name": "stderr",
     "output_type": "stream",
     "text": [
      "680145it [11:08, 1054.56it/s]"
     ]
    },
    {
     "name": "stdout",
     "output_type": "stream",
     "text": [
      "currently treating line 680,000\n",
      "memory GB:0.59\n"
     ]
    },
    {
     "name": "stderr",
     "output_type": "stream",
     "text": [
      "690098it [11:17, 1021.64it/s]"
     ]
    },
    {
     "name": "stdout",
     "output_type": "stream",
     "text": [
      "currently treating line 690,000\n",
      "memory GB:0.59\n"
     ]
    },
    {
     "name": "stderr",
     "output_type": "stream",
     "text": [
      "700195it [11:27, 1203.67it/s]"
     ]
    },
    {
     "name": "stdout",
     "output_type": "stream",
     "text": [
      "currently treating line 700,000\n",
      "memory GB:0.6\n"
     ]
    },
    {
     "name": "stderr",
     "output_type": "stream",
     "text": [
      "710124it [11:34, 1215.35it/s]"
     ]
    },
    {
     "name": "stdout",
     "output_type": "stream",
     "text": [
      "currently treating line 710,000\n",
      "memory GB:0.6\n"
     ]
    },
    {
     "name": "stderr",
     "output_type": "stream",
     "text": [
      "720220it [11:42, 1571.90it/s]"
     ]
    },
    {
     "name": "stdout",
     "output_type": "stream",
     "text": [
      "currently treating line 720,000\n",
      "memory GB:0.6\n"
     ]
    },
    {
     "name": "stderr",
     "output_type": "stream",
     "text": [
      "730149it [11:50, 1062.75it/s]"
     ]
    },
    {
     "name": "stdout",
     "output_type": "stream",
     "text": [
      "currently treating line 730,000\n",
      "memory GB:0.61\n"
     ]
    },
    {
     "name": "stderr",
     "output_type": "stream",
     "text": [
      "740095it [12:00, 967.88it/s] "
     ]
    },
    {
     "name": "stdout",
     "output_type": "stream",
     "text": [
      "currently treating line 740,000\n",
      "memory GB:0.61\n"
     ]
    },
    {
     "name": "stderr",
     "output_type": "stream",
     "text": [
      "750185it [12:08, 1065.00it/s]"
     ]
    },
    {
     "name": "stdout",
     "output_type": "stream",
     "text": [
      "currently treating line 750,000\n",
      "memory GB:0.62\n"
     ]
    },
    {
     "name": "stderr",
     "output_type": "stream",
     "text": [
      "760236it [12:16, 1727.15it/s]"
     ]
    },
    {
     "name": "stdout",
     "output_type": "stream",
     "text": [
      "currently treating line 760,000\n",
      "memory GB:0.62\n"
     ]
    },
    {
     "name": "stderr",
     "output_type": "stream",
     "text": [
      "770181it [12:24, 1197.71it/s]"
     ]
    },
    {
     "name": "stdout",
     "output_type": "stream",
     "text": [
      "currently treating line 770,000\n",
      "memory GB:0.63\n"
     ]
    },
    {
     "name": "stderr",
     "output_type": "stream",
     "text": [
      "780107it [12:33, 1430.96it/s]"
     ]
    },
    {
     "name": "stdout",
     "output_type": "stream",
     "text": [
      "currently treating line 780,000\n",
      "memory GB:0.63\n"
     ]
    },
    {
     "name": "stderr",
     "output_type": "stream",
     "text": [
      "790089it [12:41, 1282.05it/s]"
     ]
    },
    {
     "name": "stdout",
     "output_type": "stream",
     "text": [
      "currently treating line 790,000\n",
      "memory GB:0.63\n"
     ]
    },
    {
     "name": "stderr",
     "output_type": "stream",
     "text": [
      "800227it [12:49, 1371.82it/s]"
     ]
    },
    {
     "name": "stdout",
     "output_type": "stream",
     "text": [
      "currently treating line 800,000\n",
      "memory GB:0.64\n"
     ]
    }
   ],
   "source": [
    "# For those who follow the github structure:\n",
    "with open(\"../raw-data/train.jsonl\") as test_handle :\n",
    "# Initial Alix's code:\n",
    "# with open(\"/kaggle/input/otto-recommender-system/train.jsonl\") as test_handle :\n",
    "    for index, session_json in tqdm(enumerate(test_handle)) :\n",
    "        if index % 10000 == 0 :\n",
    "            print(\"currently treating line {:,}\".format(index))\n",
    "            print(cpu_stats())\n",
    "            \n",
    "        session = json.loads(session_json)\n",
    "        session[\"session\"]\n",
    "        df = pl.DataFrame(session[\"events\"])\n",
    "        df = df.with_columns([\n",
    "            pl.repeat(session[\"session\"], df.height).cast(pl.UInt32, strict=True).alias(\"session\"),\n",
    "            pl.when(pl.col(\"type\") == \"clicks\").then(0).otherwise(pl.when(pl.col(\"type\") == \"carts\").then(1).otherwise(2)).cast(pl.UInt8, strict = True).alias(\"type\"),\n",
    "            pl.col(\"aid\").cast(pl.UInt32, strict = True),\n",
    "            (pl.col(\"ts\")/1000).cast(pl.UInt32, strict = True)\n",
    "        ])\n",
    "        \n",
    "        if index == 0 :\n",
    "            total_df = df\n",
    "        else :\n",
    "            total_df.extend(df)"
   ]
  },
  {
   "cell_type": "code",
   "execution_count": null,
   "id": "a82ed267",
   "metadata": {},
   "outputs": [],
   "source": [
    "# For those who follow the github structure:\n",
    "total_df.write_parquet(\"../raw-data/otto_train.parquet\")\n",
    "# Initial Alix's code:\n",
    "# total_df.write_parquet(\"/kaggle/working/otto_train.parquet\")"
   ]
  },
  {
   "cell_type": "markdown",
   "id": "79d15811",
   "metadata": {
    "papermill": {
     "duration": 4.746618,
     "end_time": "2022-12-05T18:52:54.425681",
     "exception": false,
     "start_time": "2022-12-05T18:52:49.679063",
     "status": "completed"
    },
    "tags": []
   },
   "source": [
    "## Current thoughts and strategies\n",
    "- A lot of items that have been clicked through have never been ordered (about half).\n",
    "    - It's probably worth to model each event completely differently\n",
    "    - Almost 2 million different aids have been clicked, that's a wide dataset here...\n",
    "- Order and cart are probably easier to predict, and are also more heavily weighted. To improve score, it's probalby better to focus on those\n"
   ]
  },
  {
   "cell_type": "code",
   "execution_count": 3,
   "id": "2af86e77",
   "metadata": {
    "execution": {
     "iopub.execute_input": "2022-12-05T18:53:03.515838Z",
     "iopub.status.busy": "2022-12-05T18:53:03.515388Z",
     "iopub.status.idle": "2022-12-05T18:53:03.548498Z",
     "shell.execute_reply": "2022-12-05T18:53:03.547309Z"
    },
    "papermill": {
     "duration": 4.634465,
     "end_time": "2022-12-05T18:53:03.551001",
     "exception": false,
     "start_time": "2022-12-05T18:52:58.916536",
     "status": "completed"
    },
    "tags": []
   },
   "outputs": [
    {
     "data": {
      "text/html": [
       "<div>\n",
       "<style scoped>\n",
       "    .dataframe tbody tr th:only-of-type {\n",
       "        vertical-align: middle;\n",
       "    }\n",
       "\n",
       "    .dataframe tbody tr th {\n",
       "        vertical-align: top;\n",
       "    }\n",
       "\n",
       "    .dataframe thead th {\n",
       "        text-align: right;\n",
       "    }\n",
       "\n",
       "    .dataframe td {\n",
       "        white-space: pre;\n",
       "    }\n",
       "\n",
       "    .dataframe td {\n",
       "        padding-top: 0;\n",
       "    }\n",
       "\n",
       "    .dataframe td {\n",
       "        padding-bottom: 0;\n",
       "    }\n",
       "\n",
       "    .dataframe td {\n",
       "        line-height: 95%;\n",
       "    }\n",
       "</style>\n",
       "<table border=\"1\" class=\"dataframe\">\n",
       "<small>shape: (216716096, 4)</small>\n",
       "<thead>\n",
       "<tr>\n",
       "<th>\n",
       "aid\n",
       "</th>\n",
       "<th>\n",
       "ts\n",
       "</th>\n",
       "<th>\n",
       "type\n",
       "</th>\n",
       "<th>\n",
       "session\n",
       "</th>\n",
       "</tr>\n",
       "<tr>\n",
       "<td>\n",
       "u32\n",
       "</td>\n",
       "<td>\n",
       "u32\n",
       "</td>\n",
       "<td>\n",
       "u8\n",
       "</td>\n",
       "<td>\n",
       "u32\n",
       "</td>\n",
       "</tr>\n",
       "</thead>\n",
       "<tbody>\n",
       "<tr>\n",
       "<td>\n",
       "1517085\n",
       "</td>\n",
       "<td>\n",
       "1659304800\n",
       "</td>\n",
       "<td>\n",
       "0\n",
       "</td>\n",
       "<td>\n",
       "0\n",
       "</td>\n",
       "</tr>\n",
       "<tr>\n",
       "<td>\n",
       "1563459\n",
       "</td>\n",
       "<td>\n",
       "1659304904\n",
       "</td>\n",
       "<td>\n",
       "0\n",
       "</td>\n",
       "<td>\n",
       "0\n",
       "</td>\n",
       "</tr>\n",
       "<tr>\n",
       "<td>\n",
       "1309446\n",
       "</td>\n",
       "<td>\n",
       "1659367439\n",
       "</td>\n",
       "<td>\n",
       "0\n",
       "</td>\n",
       "<td>\n",
       "0\n",
       "</td>\n",
       "</tr>\n",
       "<tr>\n",
       "<td>\n",
       "16246\n",
       "</td>\n",
       "<td>\n",
       "1659367719\n",
       "</td>\n",
       "<td>\n",
       "0\n",
       "</td>\n",
       "<td>\n",
       "0\n",
       "</td>\n",
       "</tr>\n",
       "<tr>\n",
       "<td>\n",
       "1781822\n",
       "</td>\n",
       "<td>\n",
       "1659367871\n",
       "</td>\n",
       "<td>\n",
       "0\n",
       "</td>\n",
       "<td>\n",
       "0\n",
       "</td>\n",
       "</tr>\n",
       "<tr>\n",
       "<td>\n",
       "1152674\n",
       "</td>\n",
       "<td>\n",
       "1659367885\n",
       "</td>\n",
       "<td>\n",
       "0\n",
       "</td>\n",
       "<td>\n",
       "0\n",
       "</td>\n",
       "</tr>\n",
       "<tr>\n",
       "<td>\n",
       "1649869\n",
       "</td>\n",
       "<td>\n",
       "1659369893\n",
       "</td>\n",
       "<td>\n",
       "1\n",
       "</td>\n",
       "<td>\n",
       "0\n",
       "</td>\n",
       "</tr>\n",
       "<tr>\n",
       "<td>\n",
       "461689\n",
       "</td>\n",
       "<td>\n",
       "1659369898\n",
       "</td>\n",
       "<td>\n",
       "1\n",
       "</td>\n",
       "<td>\n",
       "0\n",
       "</td>\n",
       "</tr>\n",
       "<tr>\n",
       "<td>\n",
       "305831\n",
       "</td>\n",
       "<td>\n",
       "1659370027\n",
       "</td>\n",
       "<td>\n",
       "2\n",
       "</td>\n",
       "<td>\n",
       "0\n",
       "</td>\n",
       "</tr>\n",
       "<tr>\n",
       "<td>\n",
       "461689\n",
       "</td>\n",
       "<td>\n",
       "1659370027\n",
       "</td>\n",
       "<td>\n",
       "2\n",
       "</td>\n",
       "<td>\n",
       "0\n",
       "</td>\n",
       "</tr>\n",
       "<tr>\n",
       "<td>\n",
       "362233\n",
       "</td>\n",
       "<td>\n",
       "1659370064\n",
       "</td>\n",
       "<td>\n",
       "0\n",
       "</td>\n",
       "<td>\n",
       "0\n",
       "</td>\n",
       "</tr>\n",
       "<tr>\n",
       "<td>\n",
       "1649869\n",
       "</td>\n",
       "<td>\n",
       "1659370067\n",
       "</td>\n",
       "<td>\n",
       "0\n",
       "</td>\n",
       "<td>\n",
       "0\n",
       "</td>\n",
       "</tr>\n",
       "<tr>\n",
       "<td>\n",
       "...\n",
       "</td>\n",
       "<td>\n",
       "...\n",
       "</td>\n",
       "<td>\n",
       "...\n",
       "</td>\n",
       "<td>\n",
       "...\n",
       "</td>\n",
       "</tr>\n",
       "<tr>\n",
       "<td>\n",
       "1311526\n",
       "</td>\n",
       "<td>\n",
       "1661723966\n",
       "</td>\n",
       "<td>\n",
       "0\n",
       "</td>\n",
       "<td>\n",
       "12899773\n",
       "</td>\n",
       "</tr>\n",
       "<tr>\n",
       "<td>\n",
       "238164\n",
       "</td>\n",
       "<td>\n",
       "1661723977\n",
       "</td>\n",
       "<td>\n",
       "0\n",
       "</td>\n",
       "<td>\n",
       "12899773\n",
       "</td>\n",
       "</tr>\n",
       "<tr>\n",
       "<td>\n",
       "33035\n",
       "</td>\n",
       "<td>\n",
       "1661723968\n",
       "</td>\n",
       "<td>\n",
       "0\n",
       "</td>\n",
       "<td>\n",
       "12899774\n",
       "</td>\n",
       "</tr>\n",
       "<tr>\n",
       "<td>\n",
       "1399483\n",
       "</td>\n",
       "<td>\n",
       "1661723976\n",
       "</td>\n",
       "<td>\n",
       "0\n",
       "</td>\n",
       "<td>\n",
       "12899774\n",
       "</td>\n",
       "</tr>\n",
       "<tr>\n",
       "<td>\n",
       "1743151\n",
       "</td>\n",
       "<td>\n",
       "1661723970\n",
       "</td>\n",
       "<td>\n",
       "0\n",
       "</td>\n",
       "<td>\n",
       "12899775\n",
       "</td>\n",
       "</tr>\n",
       "<tr>\n",
       "<td>\n",
       "1760714\n",
       "</td>\n",
       "<td>\n",
       "1661723990\n",
       "</td>\n",
       "<td>\n",
       "0\n",
       "</td>\n",
       "<td>\n",
       "12899775\n",
       "</td>\n",
       "</tr>\n",
       "<tr>\n",
       "<td>\n",
       "548599\n",
       "</td>\n",
       "<td>\n",
       "1661723972\n",
       "</td>\n",
       "<td>\n",
       "0\n",
       "</td>\n",
       "<td>\n",
       "12899776\n",
       "</td>\n",
       "</tr>\n",
       "<tr>\n",
       "<td>\n",
       "1737908\n",
       "</td>\n",
       "<td>\n",
       "1661723987\n",
       "</td>\n",
       "<td>\n",
       "0\n",
       "</td>\n",
       "<td>\n",
       "12899776\n",
       "</td>\n",
       "</tr>\n",
       "<tr>\n",
       "<td>\n",
       "384045\n",
       "</td>\n",
       "<td>\n",
       "1661723976\n",
       "</td>\n",
       "<td>\n",
       "0\n",
       "</td>\n",
       "<td>\n",
       "12899777\n",
       "</td>\n",
       "</tr>\n",
       "<tr>\n",
       "<td>\n",
       "384045\n",
       "</td>\n",
       "<td>\n",
       "1661723986\n",
       "</td>\n",
       "<td>\n",
       "0\n",
       "</td>\n",
       "<td>\n",
       "12899777\n",
       "</td>\n",
       "</tr>\n",
       "<tr>\n",
       "<td>\n",
       "561560\n",
       "</td>\n",
       "<td>\n",
       "1661723983\n",
       "</td>\n",
       "<td>\n",
       "0\n",
       "</td>\n",
       "<td>\n",
       "12899778\n",
       "</td>\n",
       "</tr>\n",
       "<tr>\n",
       "<td>\n",
       "32070\n",
       "</td>\n",
       "<td>\n",
       "1661723994\n",
       "</td>\n",
       "<td>\n",
       "0\n",
       "</td>\n",
       "<td>\n",
       "12899778\n",
       "</td>\n",
       "</tr>\n",
       "</tbody>\n",
       "</table>\n",
       "</div>"
      ],
      "text/plain": [
       "shape: (216716096, 4)\n",
       "┌─────────┬────────────┬──────┬──────────┐\n",
       "│ aid     ┆ ts         ┆ type ┆ session  │\n",
       "│ ---     ┆ ---        ┆ ---  ┆ ---      │\n",
       "│ u32     ┆ u32        ┆ u8   ┆ u32      │\n",
       "╞═════════╪════════════╪══════╪══════════╡\n",
       "│ 1517085 ┆ 1659304800 ┆ 0    ┆ 0        │\n",
       "├╌╌╌╌╌╌╌╌╌┼╌╌╌╌╌╌╌╌╌╌╌╌┼╌╌╌╌╌╌┼╌╌╌╌╌╌╌╌╌╌┤\n",
       "│ 1563459 ┆ 1659304904 ┆ 0    ┆ 0        │\n",
       "├╌╌╌╌╌╌╌╌╌┼╌╌╌╌╌╌╌╌╌╌╌╌┼╌╌╌╌╌╌┼╌╌╌╌╌╌╌╌╌╌┤\n",
       "│ 1309446 ┆ 1659367439 ┆ 0    ┆ 0        │\n",
       "├╌╌╌╌╌╌╌╌╌┼╌╌╌╌╌╌╌╌╌╌╌╌┼╌╌╌╌╌╌┼╌╌╌╌╌╌╌╌╌╌┤\n",
       "│ 16246   ┆ 1659367719 ┆ 0    ┆ 0        │\n",
       "├╌╌╌╌╌╌╌╌╌┼╌╌╌╌╌╌╌╌╌╌╌╌┼╌╌╌╌╌╌┼╌╌╌╌╌╌╌╌╌╌┤\n",
       "│ ...     ┆ ...        ┆ ...  ┆ ...      │\n",
       "├╌╌╌╌╌╌╌╌╌┼╌╌╌╌╌╌╌╌╌╌╌╌┼╌╌╌╌╌╌┼╌╌╌╌╌╌╌╌╌╌┤\n",
       "│ 384045  ┆ 1661723976 ┆ 0    ┆ 12899777 │\n",
       "├╌╌╌╌╌╌╌╌╌┼╌╌╌╌╌╌╌╌╌╌╌╌┼╌╌╌╌╌╌┼╌╌╌╌╌╌╌╌╌╌┤\n",
       "│ 384045  ┆ 1661723986 ┆ 0    ┆ 12899777 │\n",
       "├╌╌╌╌╌╌╌╌╌┼╌╌╌╌╌╌╌╌╌╌╌╌┼╌╌╌╌╌╌┼╌╌╌╌╌╌╌╌╌╌┤\n",
       "│ 561560  ┆ 1661723983 ┆ 0    ┆ 12899778 │\n",
       "├╌╌╌╌╌╌╌╌╌┼╌╌╌╌╌╌╌╌╌╌╌╌┼╌╌╌╌╌╌┼╌╌╌╌╌╌╌╌╌╌┤\n",
       "│ 32070   ┆ 1661723994 ┆ 0    ┆ 12899778 │\n",
       "└─────────┴────────────┴──────┴──────────┘"
      ]
     },
     "execution_count": 3,
     "metadata": {},
     "output_type": "execute_result"
    }
   ],
   "source": [
    "total_df"
   ]
  },
  {
   "cell_type": "code",
   "execution_count": null,
   "id": "3aaa68c2",
   "metadata": {
    "execution": {
     "iopub.execute_input": "2022-12-05T10:54:14.069611Z",
     "iopub.status.busy": "2022-12-05T10:54:14.069197Z",
     "iopub.status.idle": "2022-12-05T10:54:14.076261Z",
     "shell.execute_reply": "2022-12-05T10:54:14.075324Z",
     "shell.execute_reply.started": "2022-12-05T10:54:14.069578Z"
    },
    "papermill": {
     "duration": 5.79573,
     "end_time": "2022-12-05T18:53:16.901693",
     "exception": false,
     "start_time": "2022-12-05T18:53:11.105963",
     "status": "completed"
    },
    "tags": []
   },
   "outputs": [],
   "source": []
  },
  {
   "cell_type": "code",
   "execution_count": null,
   "id": "9c5961fa",
   "metadata": {
    "execution": {
     "iopub.execute_input": "2022-12-05T12:57:52.871069Z",
     "iopub.status.busy": "2022-12-05T12:57:52.869715Z",
     "iopub.status.idle": "2022-12-05T12:57:52.883257Z",
     "shell.execute_reply": "2022-12-05T12:57:52.881591Z",
     "shell.execute_reply.started": "2022-12-05T12:57:52.871016Z"
    },
    "papermill": {
     "duration": 4.653066,
     "end_time": "2022-12-05T18:53:28.160343",
     "exception": false,
     "start_time": "2022-12-05T18:53:23.507277",
     "status": "completed"
    },
    "tags": []
   },
   "outputs": [],
   "source": []
  },
  {
   "cell_type": "code",
   "execution_count": null,
   "id": "8288167d",
   "metadata": {
    "papermill": {
     "duration": 4.578208,
     "end_time": "2022-12-05T18:53:37.247380",
     "exception": false,
     "start_time": "2022-12-05T18:53:32.669172",
     "status": "completed"
    },
    "tags": []
   },
   "outputs": [],
   "source": []
  }
 ],
 "metadata": {
  "kernelspec": {
   "display_name": "Python 3",
   "language": "python",
   "name": "python3"
  },
  "language_info": {
   "codemirror_mode": {
    "name": "ipython",
    "version": 3
   },
   "file_extension": ".py",
   "mimetype": "text/x-python",
   "name": "python",
   "nbconvert_exporter": "python",
   "pygments_lexer": "ipython3",
   "version": "3.9.0"
  },
  "papermill": {
   "default_parameters": {},
   "duration": 7572.748059,
   "end_time": "2022-12-05T18:53:43.002074",
   "environment_variables": {},
   "exception": null,
   "input_path": "__notebook__.ipynb",
   "output_path": "__notebook__.ipynb",
   "parameters": {},
   "start_time": "2022-12-05T16:47:30.254015",
   "version": "2.3.4"
  }
 },
 "nbformat": 4,
 "nbformat_minor": 5
}
