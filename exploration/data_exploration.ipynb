{
 "cells": [
  {
   "cell_type": "code",
   "execution_count": 1,
   "id": "54a316c8",
   "metadata": {},
   "outputs": [
    {
     "data": {
      "text/html": [
       "<style>.container { width:95% !important; } </style>"
      ],
      "text/plain": [
       "<IPython.core.display.HTML object>"
      ]
     },
     "metadata": {},
     "output_type": "display_data"
    }
   ],
   "source": [
    "from IPython.core.display import HTML\n",
    "display(HTML('<style>.container { width:95% !important; } </style>'))\n",
    "\n",
    "%load_ext autoreload\n",
    "%autoreload 2"
   ]
  },
  {
   "cell_type": "code",
   "execution_count": 2,
   "id": "ac10b415",
   "metadata": {},
   "outputs": [],
   "source": [
    "import numpy as np\n",
    "import pandas as pd\n",
    "import matplotlib.pyplot as plt"
   ]
  },
  {
   "cell_type": "markdown",
   "id": "364dabbf",
   "metadata": {},
   "source": [
    "## Data loading\n",
    "\n",
    "The following line loads the file as a \"virtual\" object that has to be iterated to really load the data. "
   ]
  },
  {
   "cell_type": "code",
   "execution_count": 3,
   "id": "1737303a",
   "metadata": {},
   "outputs": [],
   "source": [
    "# Loading all data takes too long - loading only the 10 000 first lines\n",
    "all_data = pd.read_json('../raw-data/train.jsonl', lines=True, chunksize = 10000)"
   ]
  },
  {
   "cell_type": "markdown",
   "id": "167bec37",
   "metadata": {},
   "source": [
    "Then, here, we extrat the 10k first lines and write them in a json file to be able to parse more easily through them."
   ]
  },
  {
   "cell_type": "code",
   "execution_count": 4,
   "id": "ff3b4e03",
   "metadata": {},
   "outputs": [],
   "source": [
    "for line in all_data:\n",
    "    first_samples = line\n",
    "    break"
   ]
  },
  {
   "cell_type": "code",
   "execution_count": 7,
   "id": "c0d288e0",
   "metadata": {},
   "outputs": [
    {
     "data": {
      "text/html": [
       "<div>\n",
       "<style scoped>\n",
       "    .dataframe tbody tr th:only-of-type {\n",
       "        vertical-align: middle;\n",
       "    }\n",
       "\n",
       "    .dataframe tbody tr th {\n",
       "        vertical-align: top;\n",
       "    }\n",
       "\n",
       "    .dataframe thead th {\n",
       "        text-align: right;\n",
       "    }\n",
       "</style>\n",
       "<table border=\"1\" class=\"dataframe\">\n",
       "  <thead>\n",
       "    <tr style=\"text-align: right;\">\n",
       "      <th></th>\n",
       "      <th>session</th>\n",
       "      <th>events</th>\n",
       "    </tr>\n",
       "  </thead>\n",
       "  <tbody>\n",
       "    <tr>\n",
       "      <th>0</th>\n",
       "      <td>0</td>\n",
       "      <td>[{'aid': 1517085, 'ts': 1659304800025, 'type':...</td>\n",
       "    </tr>\n",
       "    <tr>\n",
       "      <th>1</th>\n",
       "      <td>1</td>\n",
       "      <td>[{'aid': 424964, 'ts': 1659304800025, 'type': ...</td>\n",
       "    </tr>\n",
       "    <tr>\n",
       "      <th>2</th>\n",
       "      <td>2</td>\n",
       "      <td>[{'aid': 763743, 'ts': 1659304800038, 'type': ...</td>\n",
       "    </tr>\n",
       "    <tr>\n",
       "      <th>3</th>\n",
       "      <td>3</td>\n",
       "      <td>[{'aid': 1425967, 'ts': 1659304800095, 'type':...</td>\n",
       "    </tr>\n",
       "    <tr>\n",
       "      <th>4</th>\n",
       "      <td>4</td>\n",
       "      <td>[{'aid': 613619, 'ts': 1659304800119, 'type': ...</td>\n",
       "    </tr>\n",
       "    <tr>\n",
       "      <th>...</th>\n",
       "      <td>...</td>\n",
       "      <td>...</td>\n",
       "    </tr>\n",
       "    <tr>\n",
       "      <th>9995</th>\n",
       "      <td>9995</td>\n",
       "      <td>[{'aid': 541094, 'ts': 1659305201426, 'type': ...</td>\n",
       "    </tr>\n",
       "    <tr>\n",
       "      <th>9996</th>\n",
       "      <td>9996</td>\n",
       "      <td>[{'aid': 332607, 'ts': 1659305201462, 'type': ...</td>\n",
       "    </tr>\n",
       "    <tr>\n",
       "      <th>9997</th>\n",
       "      <td>9997</td>\n",
       "      <td>[{'aid': 680703, 'ts': 1659305201520, 'type': ...</td>\n",
       "    </tr>\n",
       "    <tr>\n",
       "      <th>9998</th>\n",
       "      <td>9998</td>\n",
       "      <td>[{'aid': 483416, 'ts': 1659305201526, 'type': ...</td>\n",
       "    </tr>\n",
       "    <tr>\n",
       "      <th>9999</th>\n",
       "      <td>9999</td>\n",
       "      <td>[{'aid': 999208, 'ts': 1659305201699, 'type': ...</td>\n",
       "    </tr>\n",
       "  </tbody>\n",
       "</table>\n",
       "<p>10000 rows × 2 columns</p>\n",
       "</div>"
      ],
      "text/plain": [
       "      session                                             events\n",
       "0           0  [{'aid': 1517085, 'ts': 1659304800025, 'type':...\n",
       "1           1  [{'aid': 424964, 'ts': 1659304800025, 'type': ...\n",
       "2           2  [{'aid': 763743, 'ts': 1659304800038, 'type': ...\n",
       "3           3  [{'aid': 1425967, 'ts': 1659304800095, 'type':...\n",
       "4           4  [{'aid': 613619, 'ts': 1659304800119, 'type': ...\n",
       "...       ...                                                ...\n",
       "9995     9995  [{'aid': 541094, 'ts': 1659305201426, 'type': ...\n",
       "9996     9996  [{'aid': 332607, 'ts': 1659305201462, 'type': ...\n",
       "9997     9997  [{'aid': 680703, 'ts': 1659305201520, 'type': ...\n",
       "9998     9998  [{'aid': 483416, 'ts': 1659305201526, 'type': ...\n",
       "9999     9999  [{'aid': 999208, 'ts': 1659305201699, 'type': ...\n",
       "\n",
       "[10000 rows x 2 columns]"
      ]
     },
     "execution_count": 7,
     "metadata": {},
     "output_type": "execute_result"
    }
   ],
   "source": [
    "first_samples.to_json(\"../raw-data/first_samples.json\")\n",
    "first_samples"
   ]
  },
  {
   "cell_type": "code",
   "execution_count": 8,
   "id": "e763748a",
   "metadata": {},
   "outputs": [
    {
     "name": "stdout",
     "output_type": "stream",
     "text": [
      "Size of the session: 276\n"
     ]
    }
   ],
   "source": [
    "first_sample = first_samples.loc[0]\n",
    "print(\"Size of the session:\", len(first_sample[\"events\"]))"
   ]
  },
  {
   "cell_type": "code",
   "execution_count": 9,
   "id": "19207421",
   "metadata": {},
   "outputs": [
    {
     "name": "stdout",
     "output_type": "stream",
     "text": [
      "Size of the session: 32\n"
     ]
    }
   ],
   "source": [
    "sec_sample = first_samples.loc[1]\n",
    "print(\"Size of the session:\", len(sec_sample[\"events\"]))"
   ]
  },
  {
   "cell_type": "markdown",
   "id": "fb8880bb",
   "metadata": {},
   "source": [
    "The sessions have different lengths, and we aim at predicting an event at setp n of the session. The events are ony described by \n",
    "* the article id: aid\n",
    "* the time of the event: ts\n",
    "* the type of event: type (clicks, cart, order)\n",
    "\n",
    "So to predict the next event, the model must be able to infer from the sequence of events the next one. "
   ]
  },
  {
   "cell_type": "code",
   "execution_count": 11,
   "id": "7a367abf",
   "metadata": {},
   "outputs": [
    {
     "name": "stdout",
     "output_type": "stream",
     "text": [
      "495\n"
     ]
    }
   ],
   "source": [
    "sizes=[]\n",
    "for first_sample_id in first_samples.index:\n",
    "    sizes.append(len(first_samples.loc[first_sample_id][\"events\"]))\n",
    "print(max(sizes))"
   ]
  }
 ],
 "metadata": {
  "kernelspec": {
   "display_name": "Python 3 (ipykernel)",
   "language": "python",
   "name": "python3"
  },
  "language_info": {
   "codemirror_mode": {
    "name": "ipython",
    "version": 3
   },
   "file_extension": ".py",
   "mimetype": "text/x-python",
   "name": "python",
   "nbconvert_exporter": "python",
   "pygments_lexer": "ipython3",
   "version": "3.10.6"
  }
 },
 "nbformat": 4,
 "nbformat_minor": 5
}
